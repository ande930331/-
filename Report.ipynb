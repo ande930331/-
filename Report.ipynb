{
  "nbformat": 4,
  "nbformat_minor": 0,
  "metadata": {
    "colab": {
      "provenance": [],
      "gpuType": "T4"
    },
    "kernelspec": {
      "name": "python3",
      "display_name": "Python 3"
    },
    "language_info": {
      "name": "python"
    },
    "accelerator": "GPU"
  },
  "cells": [
    {
      "cell_type": "code",
      "execution_count": 1,
      "metadata": {
        "colab": {
          "base_uri": "https://localhost:8080/"
        },
        "id": "Gy9luoAFaXIl",
        "outputId": "2f5342c9-9cf8-49ef-a667-907dcbf5d23f"
      },
      "outputs": [
        {
          "output_type": "stream",
          "name": "stdout",
          "text": [
            "/content/drive/MyDrive/113-ai\n"
          ]
        }
      ],
      "source": [
        "%cd \"/content/drive/MyDrive/113-ai\""
      ]
    },
    {
      "cell_type": "code",
      "source": [
        "%mkdir TFmodels\n",
        "%cd \"/content/drive/MyDrive/113-ai/TFmodels\""
      ],
      "metadata": {
        "colab": {
          "base_uri": "https://localhost:8080/"
        },
        "id": "PAvE7uajafjg",
        "outputId": "482408fc-ea33-4219-ec4f-e74412aef924"
      },
      "execution_count": 2,
      "outputs": [
        {
          "output_type": "stream",
          "name": "stdout",
          "text": [
            "/content/drive/MyDrive/113-ai/TFmodels\n"
          ]
        }
      ]
    },
    {
      "cell_type": "code",
      "source": [
        "!git clone https://github.com/tensorflow/models.git\n",
        "%cd models/research"
      ],
      "metadata": {
        "colab": {
          "base_uri": "https://localhost:8080/"
        },
        "id": "-Dqkh_U2apcu",
        "outputId": "6c30ced6-9706-4fdb-87ba-2ca2593be9ed"
      },
      "execution_count": 3,
      "outputs": [
        {
          "output_type": "stream",
          "name": "stdout",
          "text": [
            "Cloning into 'models'...\n",
            "remote: Enumerating objects: 98274, done.\u001b[K\n",
            "remote: Counting objects: 100% (787/787), done.\u001b[K\n",
            "remote: Compressing objects: 100% (422/422), done.\u001b[K\n",
            "remote: Total 98274 (delta 408), reused 665 (delta 345), pack-reused 97487 (from 1)\u001b[K\n",
            "Receiving objects: 100% (98274/98274), 621.69 MiB | 13.95 MiB/s, done.\n",
            "Resolving deltas: 100% (71396/71396), done.\n",
            "Updating files: 100% (3874/3874), done.\n",
            "/content/drive/MyDrive/113-ai/TFmodels/models/research\n"
          ]
        }
      ]
    },
    {
      "cell_type": "code",
      "source": [
        "%cd \"/content/drive/MyDrive/113-ai/TFmodels/models/research\""
      ],
      "metadata": {
        "colab": {
          "base_uri": "https://localhost:8080/"
        },
        "id": "_N8dvhoVcCpX",
        "outputId": "9cbc0e7f-9d76-4b2e-c6f0-294b962c322b"
      },
      "execution_count": 1,
      "outputs": [
        {
          "output_type": "stream",
          "name": "stdout",
          "text": [
            "/content/drive/MyDrive/113-ai/TFmodels/models/research\n"
          ]
        }
      ]
    },
    {
      "cell_type": "code",
      "source": [
        "# 安装 Protobuf 编译器\n",
        "!apt-get install -y protobuf-compiler\n",
        "\n",
        "# 编译 Protobuf 文件\n",
        "!protoc object_detection/protos/*.proto --python_out=."
      ],
      "metadata": {
        "colab": {
          "base_uri": "https://localhost:8080/"
        },
        "id": "sOHR76CsatoH",
        "outputId": "83ca94a1-72fb-44f2-a43e-a6cc17ef9e01"
      },
      "execution_count": 2,
      "outputs": [
        {
          "output_type": "stream",
          "name": "stdout",
          "text": [
            "Reading package lists... Done\n",
            "Building dependency tree... Done\n",
            "Reading state information... Done\n",
            "protobuf-compiler is already the newest version (3.12.4-1ubuntu7.22.04.1).\n",
            "0 upgraded, 0 newly installed, 0 to remove and 49 not upgraded.\n"
          ]
        }
      ]
    },
    {
      "cell_type": "code",
      "source": [
        "import tensorflow as tf\n",
        "import numpy as np\n",
        "\n",
        "print(f\"TensorFlow version: {tf.__version__}\")\n",
        "print(f\"NumPy version: {np.__version__}\")"
      ],
      "metadata": {
        "id": "Q0RevFqFcvO5"
      },
      "execution_count": null,
      "outputs": []
    },
    {
      "cell_type": "code",
      "source": [
        "# 安装必要的依赖\n",
        "!pip install tensorflow==2.12\n",
        "!pip install tf-slim\n",
        "!pip install pycocotools\n",
        "!pip install lvis\n",
        "!pip install Cython\n",
        "!pip install contextlib2\n",
        "!pip install matplotlib\n",
        "!pip install pillow"
      ],
      "metadata": {
        "colab": {
          "base_uri": "https://localhost:8080/"
        },
        "id": "9r01zKibbGWC",
        "outputId": "65fe436f-e9ff-451e-db58-afe173a68455"
      },
      "execution_count": 3,
      "outputs": [
        {
          "output_type": "stream",
          "name": "stdout",
          "text": [
            "Requirement already satisfied: tensorflow==2.12 in /usr/local/lib/python3.10/dist-packages (2.12.0)\n",
            "Requirement already satisfied: absl-py>=1.0.0 in /usr/local/lib/python3.10/dist-packages (from tensorflow==2.12) (1.4.0)\n",
            "Requirement already satisfied: astunparse>=1.6.0 in /usr/local/lib/python3.10/dist-packages (from tensorflow==2.12) (1.6.3)\n",
            "Requirement already satisfied: flatbuffers>=2.0 in /usr/local/lib/python3.10/dist-packages (from tensorflow==2.12) (24.3.25)\n",
            "Requirement already satisfied: gast<=0.4.0,>=0.2.1 in /usr/local/lib/python3.10/dist-packages (from tensorflow==2.12) (0.4.0)\n",
            "Requirement already satisfied: google-pasta>=0.1.1 in /usr/local/lib/python3.10/dist-packages (from tensorflow==2.12) (0.2.0)\n",
            "Requirement already satisfied: grpcio<2.0,>=1.24.3 in /usr/local/lib/python3.10/dist-packages (from tensorflow==2.12) (1.64.1)\n",
            "Requirement already satisfied: h5py>=2.9.0 in /usr/local/lib/python3.10/dist-packages (from tensorflow==2.12) (3.11.0)\n",
            "Requirement already satisfied: jax>=0.3.15 in /usr/local/lib/python3.10/dist-packages (from tensorflow==2.12) (0.4.30)\n",
            "Requirement already satisfied: keras<2.13,>=2.12.0 in /usr/local/lib/python3.10/dist-packages (from tensorflow==2.12) (2.12.0)\n",
            "Requirement already satisfied: libclang>=13.0.0 in /usr/local/lib/python3.10/dist-packages (from tensorflow==2.12) (18.1.1)\n",
            "Requirement already satisfied: numpy<1.24,>=1.22 in /usr/local/lib/python3.10/dist-packages (from tensorflow==2.12) (1.23.5)\n",
            "Requirement already satisfied: opt-einsum>=2.3.2 in /usr/local/lib/python3.10/dist-packages (from tensorflow==2.12) (3.4.0)\n",
            "Requirement already satisfied: packaging in /usr/local/lib/python3.10/dist-packages (from tensorflow==2.12) (24.1)\n",
            "Requirement already satisfied: protobuf!=4.21.0,!=4.21.1,!=4.21.2,!=4.21.3,!=4.21.4,!=4.21.5,<5.0.0dev,>=3.20.3 in /usr/local/lib/python3.10/dist-packages (from tensorflow==2.12) (3.20.3)\n",
            "Requirement already satisfied: setuptools in /usr/local/lib/python3.10/dist-packages (from tensorflow==2.12) (71.0.4)\n",
            "Requirement already satisfied: six>=1.12.0 in /usr/local/lib/python3.10/dist-packages (from tensorflow==2.12) (1.16.0)\n",
            "Requirement already satisfied: tensorboard<2.13,>=2.12 in /usr/local/lib/python3.10/dist-packages (from tensorflow==2.12) (2.12.3)\n",
            "Requirement already satisfied: tensorflow-estimator<2.13,>=2.12.0 in /usr/local/lib/python3.10/dist-packages (from tensorflow==2.12) (2.12.0)\n",
            "Requirement already satisfied: termcolor>=1.1.0 in /usr/local/lib/python3.10/dist-packages (from tensorflow==2.12) (2.5.0)\n",
            "Requirement already satisfied: typing-extensions>=3.6.6 in /usr/local/lib/python3.10/dist-packages (from tensorflow==2.12) (4.12.2)\n",
            "Requirement already satisfied: wrapt<1.15,>=1.11.0 in /usr/local/lib/python3.10/dist-packages (from tensorflow==2.12) (1.14.1)\n",
            "Requirement already satisfied: tensorflow-io-gcs-filesystem>=0.23.1 in /usr/local/lib/python3.10/dist-packages (from tensorflow==2.12) (0.37.1)\n",
            "Requirement already satisfied: wheel<1.0,>=0.23.0 in /usr/local/lib/python3.10/dist-packages (from astunparse>=1.6.0->tensorflow==2.12) (0.44.0)\n",
            "Requirement already satisfied: jaxlib<=0.4.30,>=0.4.27 in /usr/local/lib/python3.10/dist-packages (from jax>=0.3.15->tensorflow==2.12) (0.4.30)\n",
            "Requirement already satisfied: ml-dtypes>=0.2.0 in /usr/local/lib/python3.10/dist-packages (from jax>=0.3.15->tensorflow==2.12) (0.4.1)\n",
            "Requirement already satisfied: scipy>=1.9 in /usr/local/lib/python3.10/dist-packages (from jax>=0.3.15->tensorflow==2.12) (1.13.1)\n",
            "Requirement already satisfied: google-auth<3,>=1.6.3 in /usr/local/lib/python3.10/dist-packages (from tensorboard<2.13,>=2.12->tensorflow==2.12) (2.27.0)\n",
            "Requirement already satisfied: google-auth-oauthlib<1.1,>=0.5 in /usr/local/lib/python3.10/dist-packages (from tensorboard<2.13,>=2.12->tensorflow==2.12) (1.0.0)\n",
            "Requirement already satisfied: markdown>=2.6.8 in /usr/local/lib/python3.10/dist-packages (from tensorboard<2.13,>=2.12->tensorflow==2.12) (3.7)\n",
            "Requirement already satisfied: requests<3,>=2.21.0 in /usr/local/lib/python3.10/dist-packages (from tensorboard<2.13,>=2.12->tensorflow==2.12) (2.32.3)\n",
            "Requirement already satisfied: tensorboard-data-server<0.8.0,>=0.7.0 in /usr/local/lib/python3.10/dist-packages (from tensorboard<2.13,>=2.12->tensorflow==2.12) (0.7.2)\n",
            "Requirement already satisfied: werkzeug>=1.0.1 in /usr/local/lib/python3.10/dist-packages (from tensorboard<2.13,>=2.12->tensorflow==2.12) (3.0.4)\n",
            "Requirement already satisfied: cachetools<6.0,>=2.0.0 in /usr/local/lib/python3.10/dist-packages (from google-auth<3,>=1.6.3->tensorboard<2.13,>=2.12->tensorflow==2.12) (5.5.0)\n",
            "Requirement already satisfied: pyasn1-modules>=0.2.1 in /usr/local/lib/python3.10/dist-packages (from google-auth<3,>=1.6.3->tensorboard<2.13,>=2.12->tensorflow==2.12) (0.4.1)\n",
            "Requirement already satisfied: rsa<5,>=3.1.4 in /usr/local/lib/python3.10/dist-packages (from google-auth<3,>=1.6.3->tensorboard<2.13,>=2.12->tensorflow==2.12) (4.9)\n",
            "Requirement already satisfied: requests-oauthlib>=0.7.0 in /usr/local/lib/python3.10/dist-packages (from google-auth-oauthlib<1.1,>=0.5->tensorboard<2.13,>=2.12->tensorflow==2.12) (1.3.1)\n",
            "Requirement already satisfied: charset-normalizer<4,>=2 in /usr/local/lib/python3.10/dist-packages (from requests<3,>=2.21.0->tensorboard<2.13,>=2.12->tensorflow==2.12) (3.4.0)\n",
            "Requirement already satisfied: idna<4,>=2.5 in /usr/local/lib/python3.10/dist-packages (from requests<3,>=2.21.0->tensorboard<2.13,>=2.12->tensorflow==2.12) (3.10)\n",
            "Requirement already satisfied: urllib3<3,>=1.21.1 in /usr/local/lib/python3.10/dist-packages (from requests<3,>=2.21.0->tensorboard<2.13,>=2.12->tensorflow==2.12) (2.2.3)\n",
            "Requirement already satisfied: certifi>=2017.4.17 in /usr/local/lib/python3.10/dist-packages (from requests<3,>=2.21.0->tensorboard<2.13,>=2.12->tensorflow==2.12) (2024.8.30)\n",
            "Requirement already satisfied: MarkupSafe>=2.1.1 in /usr/local/lib/python3.10/dist-packages (from werkzeug>=1.0.1->tensorboard<2.13,>=2.12->tensorflow==2.12) (3.0.1)\n",
            "Requirement already satisfied: pyasn1<0.7.0,>=0.4.6 in /usr/local/lib/python3.10/dist-packages (from pyasn1-modules>=0.2.1->google-auth<3,>=1.6.3->tensorboard<2.13,>=2.12->tensorflow==2.12) (0.6.1)\n",
            "Requirement already satisfied: oauthlib>=3.0.0 in /usr/local/lib/python3.10/dist-packages (from requests-oauthlib>=0.7.0->google-auth-oauthlib<1.1,>=0.5->tensorboard<2.13,>=2.12->tensorflow==2.12) (3.2.2)\n",
            "Requirement already satisfied: tf-slim in /usr/local/lib/python3.10/dist-packages (1.1.0)\n",
            "Requirement already satisfied: absl-py>=0.2.2 in /usr/local/lib/python3.10/dist-packages (from tf-slim) (1.4.0)\n",
            "Requirement already satisfied: pycocotools in /usr/local/lib/python3.10/dist-packages (2.0.8)\n",
            "Requirement already satisfied: matplotlib>=2.1.0 in /usr/local/lib/python3.10/dist-packages (from pycocotools) (3.7.1)\n",
            "Requirement already satisfied: numpy in /usr/local/lib/python3.10/dist-packages (from pycocotools) (1.23.5)\n",
            "Requirement already satisfied: contourpy>=1.0.1 in /usr/local/lib/python3.10/dist-packages (from matplotlib>=2.1.0->pycocotools) (1.3.0)\n",
            "Requirement already satisfied: cycler>=0.10 in /usr/local/lib/python3.10/dist-packages (from matplotlib>=2.1.0->pycocotools) (0.12.1)\n",
            "Requirement already satisfied: fonttools>=4.22.0 in /usr/local/lib/python3.10/dist-packages (from matplotlib>=2.1.0->pycocotools) (4.54.1)\n",
            "Requirement already satisfied: kiwisolver>=1.0.1 in /usr/local/lib/python3.10/dist-packages (from matplotlib>=2.1.0->pycocotools) (1.4.7)\n",
            "Requirement already satisfied: packaging>=20.0 in /usr/local/lib/python3.10/dist-packages (from matplotlib>=2.1.0->pycocotools) (24.1)\n",
            "Requirement already satisfied: pillow>=6.2.0 in /usr/local/lib/python3.10/dist-packages (from matplotlib>=2.1.0->pycocotools) (10.4.0)\n",
            "Requirement already satisfied: pyparsing>=2.3.1 in /usr/local/lib/python3.10/dist-packages (from matplotlib>=2.1.0->pycocotools) (3.1.4)\n",
            "Requirement already satisfied: python-dateutil>=2.7 in /usr/local/lib/python3.10/dist-packages (from matplotlib>=2.1.0->pycocotools) (2.8.2)\n",
            "Requirement already satisfied: six>=1.5 in /usr/local/lib/python3.10/dist-packages (from python-dateutil>=2.7->matplotlib>=2.1.0->pycocotools) (1.16.0)\n",
            "Requirement already satisfied: lvis in /usr/local/lib/python3.10/dist-packages (0.5.3)\n",
            "Requirement already satisfied: cycler>=0.10.0 in /usr/local/lib/python3.10/dist-packages (from lvis) (0.12.1)\n",
            "Requirement already satisfied: Cython>=0.29.12 in /usr/local/lib/python3.10/dist-packages (from lvis) (3.0.11)\n",
            "Requirement already satisfied: kiwisolver>=1.1.0 in /usr/local/lib/python3.10/dist-packages (from lvis) (1.4.7)\n",
            "Requirement already satisfied: matplotlib>=3.1.1 in /usr/local/lib/python3.10/dist-packages (from lvis) (3.7.1)\n",
            "Requirement already satisfied: numpy>=1.18.2 in /usr/local/lib/python3.10/dist-packages (from lvis) (1.23.5)\n",
            "Requirement already satisfied: opencv-python>=4.1.0.25 in /usr/local/lib/python3.10/dist-packages (from lvis) (4.10.0.84)\n",
            "Requirement already satisfied: pyparsing>=2.4.0 in /usr/local/lib/python3.10/dist-packages (from lvis) (3.1.4)\n",
            "Requirement already satisfied: python-dateutil>=2.8.0 in /usr/local/lib/python3.10/dist-packages (from lvis) (2.8.2)\n",
            "Requirement already satisfied: six>=1.12.0 in /usr/local/lib/python3.10/dist-packages (from lvis) (1.16.0)\n",
            "Requirement already satisfied: contourpy>=1.0.1 in /usr/local/lib/python3.10/dist-packages (from matplotlib>=3.1.1->lvis) (1.3.0)\n",
            "Requirement already satisfied: fonttools>=4.22.0 in /usr/local/lib/python3.10/dist-packages (from matplotlib>=3.1.1->lvis) (4.54.1)\n",
            "Requirement already satisfied: packaging>=20.0 in /usr/local/lib/python3.10/dist-packages (from matplotlib>=3.1.1->lvis) (24.1)\n",
            "Requirement already satisfied: pillow>=6.2.0 in /usr/local/lib/python3.10/dist-packages (from matplotlib>=3.1.1->lvis) (10.4.0)\n",
            "Requirement already satisfied: Cython in /usr/local/lib/python3.10/dist-packages (3.0.11)\n",
            "Requirement already satisfied: contextlib2 in /usr/local/lib/python3.10/dist-packages (21.6.0)\n",
            "Requirement already satisfied: matplotlib in /usr/local/lib/python3.10/dist-packages (3.7.1)\n",
            "Requirement already satisfied: contourpy>=1.0.1 in /usr/local/lib/python3.10/dist-packages (from matplotlib) (1.3.0)\n",
            "Requirement already satisfied: cycler>=0.10 in /usr/local/lib/python3.10/dist-packages (from matplotlib) (0.12.1)\n",
            "Requirement already satisfied: fonttools>=4.22.0 in /usr/local/lib/python3.10/dist-packages (from matplotlib) (4.54.1)\n",
            "Requirement already satisfied: kiwisolver>=1.0.1 in /usr/local/lib/python3.10/dist-packages (from matplotlib) (1.4.7)\n",
            "Requirement already satisfied: numpy>=1.20 in /usr/local/lib/python3.10/dist-packages (from matplotlib) (1.23.5)\n",
            "Requirement already satisfied: packaging>=20.0 in /usr/local/lib/python3.10/dist-packages (from matplotlib) (24.1)\n",
            "Requirement already satisfied: pillow>=6.2.0 in /usr/local/lib/python3.10/dist-packages (from matplotlib) (10.4.0)\n",
            "Requirement already satisfied: pyparsing>=2.3.1 in /usr/local/lib/python3.10/dist-packages (from matplotlib) (3.1.4)\n",
            "Requirement already satisfied: python-dateutil>=2.7 in /usr/local/lib/python3.10/dist-packages (from matplotlib) (2.8.2)\n",
            "Requirement already satisfied: six>=1.5 in /usr/local/lib/python3.10/dist-packages (from python-dateutil>=2.7->matplotlib) (1.16.0)\n",
            "Requirement already satisfied: pillow in /usr/local/lib/python3.10/dist-packages (10.4.0)\n"
          ]
        }
      ]
    },
    {
      "cell_type": "code",
      "source": [
        "import os\n",
        "os.environ['PYTHONPATH'] += ':/content/models:/content/models/research:/content/models/research/slim'"
      ],
      "metadata": {
        "id": "NibpNmJGbKZp"
      },
      "execution_count": 4,
      "outputs": []
    },
    {
      "cell_type": "code",
      "source": [
        "!pip3 install labelImg"
      ],
      "metadata": {
        "colab": {
          "base_uri": "https://localhost:8080/"
        },
        "id": "eoaYMLKobLH-",
        "outputId": "05f3dea3-6f9e-43f1-bcbe-e9ab72f172b6"
      },
      "execution_count": 5,
      "outputs": [
        {
          "output_type": "stream",
          "name": "stdout",
          "text": [
            "Collecting labelImg\n",
            "  Using cached labelImg-1.8.6.tar.gz (247 kB)\n",
            "  Preparing metadata (setup.py) ... \u001b[?25l\u001b[?25hdone\n",
            "Collecting pyqt5 (from labelImg)\n",
            "  Using cached PyQt5-5.15.11-cp38-abi3-manylinux_2_17_x86_64.whl.metadata (2.1 kB)\n",
            "Requirement already satisfied: lxml in /usr/local/lib/python3.10/dist-packages (from labelImg) (4.9.4)\n",
            "Collecting PyQt5-sip<13,>=12.15 (from pyqt5->labelImg)\n",
            "  Using cached PyQt5_sip-12.15.0-cp310-cp310-manylinux_2_5_x86_64.manylinux1_x86_64.whl.metadata (421 bytes)\n",
            "Collecting PyQt5-Qt5<5.16.0,>=5.15.2 (from pyqt5->labelImg)\n",
            "  Using cached PyQt5_Qt5-5.15.15-py3-none-manylinux2014_x86_64.whl.metadata (536 bytes)\n",
            "Using cached PyQt5-5.15.11-cp38-abi3-manylinux_2_17_x86_64.whl (8.2 MB)\n",
            "Using cached PyQt5_Qt5-5.15.15-py3-none-manylinux2014_x86_64.whl (59.8 MB)\n",
            "Using cached PyQt5_sip-12.15.0-cp310-cp310-manylinux_2_5_x86_64.manylinux1_x86_64.whl (270 kB)\n",
            "Building wheels for collected packages: labelImg\n",
            "  Building wheel for labelImg (setup.py) ... \u001b[?25l\u001b[?25hdone\n",
            "  Created wheel for labelImg: filename=labelImg-1.8.6-py2.py3-none-any.whl size=261520 sha256=00b25a6e96a9093d92833b8ea02ff3a41c269757d014cef6cb21924f8e32e6c6\n",
            "  Stored in directory: /root/.cache/pip/wheels/d9/f0/1e/74c509495458cad13a0fda23fe605e643177625cf2b5c17b34\n",
            "Successfully built labelImg\n",
            "Installing collected packages: PyQt5-Qt5, PyQt5-sip, pyqt5, labelImg\n",
            "Successfully installed PyQt5-Qt5-5.15.15 PyQt5-sip-12.15.0 labelImg-1.8.6 pyqt5-5.15.11\n"
          ]
        }
      ]
    },
    {
      "cell_type": "code",
      "source": [
        "!git clone https://github.com/zjgulai/tensorflow-Object-Detection-API-With-Custom-Dataset.git"
      ],
      "metadata": {
        "colab": {
          "base_uri": "https://localhost:8080/"
        },
        "id": "IqBCUDSjbMzP",
        "outputId": "611e3799-1cfa-4ef2-df02-8346499bd6f0"
      },
      "execution_count": 7,
      "outputs": [
        {
          "output_type": "stream",
          "name": "stdout",
          "text": [
            "Cloning into 'tensorflow-Object-Detection-API-With-Custom-Dataset'...\n",
            "remote: Enumerating objects: 86, done.\u001b[K\n",
            "remote: Counting objects: 100% (17/17), done.\u001b[K\n",
            "remote: Compressing objects: 100% (5/5), done.\u001b[K\n",
            "remote: Total 86 (delta 12), reused 12 (delta 12), pack-reused 69 (from 1)\u001b[K\n",
            "Receiving objects: 100% (86/86), 35.12 KiB | 579.00 KiB/s, done.\n",
            "Resolving deltas: 100% (31/31), done.\n"
          ]
        }
      ]
    },
    {
      "cell_type": "code",
      "source": [
        "!python Tensorflow-Object-Detection-API-With-Custom-Dataset/xml_csv.py"
      ],
      "metadata": {
        "colab": {
          "base_uri": "https://localhost:8080/"
        },
        "id": "cfus5Ap0ddfR",
        "outputId": "dc7ebfc3-f4a2-4a32-b46e-0aa4fe9c516a"
      },
      "execution_count": 8,
      "outputs": [
        {
          "output_type": "stream",
          "name": "stdout",
          "text": [
            "Traceback (most recent call last):\n",
            "  File \"/content/drive/MyDrive/113-ai/TFmodels/models/research/Tensorflow-Object-Detection-API-With-Custom-Dataset/xml_csv.py\", line 35, in <module>\n",
            "    main()\n",
            "  File \"/content/drive/MyDrive/113-ai/TFmodels/models/research/Tensorflow-Object-Detection-API-With-Custom-Dataset/xml_csv.py\", line 32, in main\n",
            "    xml_df.to_csv('data/{}_labels.csv'.format(directory), index=None)\n",
            "  File \"/usr/local/lib/python3.10/dist-packages/pandas/util/_decorators.py\", line 333, in wrapper\n",
            "    return func(*args, **kwargs)\n",
            "  File \"/usr/local/lib/python3.10/dist-packages/pandas/core/generic.py\", line 3967, in to_csv\n",
            "    return DataFrameRenderer(formatter).to_csv(\n",
            "  File \"/usr/local/lib/python3.10/dist-packages/pandas/io/formats/format.py\", line 1014, in to_csv\n",
            "    csv_formatter.save()\n",
            "  File \"/usr/local/lib/python3.10/dist-packages/pandas/io/formats/csvs.py\", line 251, in save\n",
            "    with get_handle(\n",
            "  File \"/usr/local/lib/python3.10/dist-packages/pandas/io/common.py\", line 749, in get_handle\n",
            "    check_parent_directory(str(handle))\n",
            "  File \"/usr/local/lib/python3.10/dist-packages/pandas/io/common.py\", line 616, in check_parent_directory\n",
            "    raise OSError(rf\"Cannot save file into a non-existent directory: '{parent}'\")\n",
            "OSError: Cannot save file into a non-existent directory: 'data'\n"
          ]
        }
      ]
    },
    {
      "cell_type": "code",
      "source": [
        "def class_text_to_int(row_label):\n",
        "    if row_label == 'apple':\n",
        "        return 1\n",
        "    else:\n",
        "        return None\n"
      ],
      "metadata": {
        "id": "JOql8Kejd1ce"
      },
      "execution_count": 9,
      "outputs": []
    },
    {
      "cell_type": "code",
      "source": [
        "!python Tensorflow-Object-Detection-API-With-Custom-Dataset/generate_tfrecord.py --csv_input=data/train_labels.csv --output_path=train.record --image_dir=images/train\n",
        "!python Tensorflow-Object-Detection-API-With-Custom-Dataset/generate_tfrecord.py --csv_input=data/test_labels.csv --output_path=test.record --image_dir=images/test"
      ],
      "metadata": {
        "colab": {
          "base_uri": "https://localhost:8080/"
        },
        "id": "trzHQGm5d2u4",
        "outputId": "9dc01b26-96c9-4230-ac07-b5d32857941d"
      },
      "execution_count": 10,
      "outputs": [
        {
          "output_type": "stream",
          "name": "stdout",
          "text": [
            "2024-10-18 11:51:11.546386: I tensorflow/tsl/cuda/cudart_stub.cc:28] Could not find cuda drivers on your machine, GPU will not be used.\n",
            "2024-10-18 11:51:11.596869: I tensorflow/tsl/cuda/cudart_stub.cc:28] Could not find cuda drivers on your machine, GPU will not be used.\n",
            "2024-10-18 11:51:11.597405: I tensorflow/core/platform/cpu_feature_guard.cc:182] This TensorFlow binary is optimized to use available CPU instructions in performance-critical operations.\n",
            "To enable the following instructions: AVX2 AVX512F FMA, in other operations, rebuild TensorFlow with the appropriate compiler flags.\n",
            "2024-10-18 11:51:12.612708: W tensorflow/compiler/tf2tensorrt/utils/py_utils.cc:38] TF-TRT Warning: Could not find TensorRT\n",
            "Traceback (most recent call last):\n",
            "  File \"/content/drive/MyDrive/113-ai/TFmodels/models/research/Tensorflow-Object-Detection-API-With-Custom-Dataset/generate_tfrecord.py\", line 19, in <module>\n",
            "    from object_detection.utils import dataset_util\n",
            "ModuleNotFoundError: No module named 'object_detection'\n",
            "2024-10-18 11:51:16.455160: I tensorflow/tsl/cuda/cudart_stub.cc:28] Could not find cuda drivers on your machine, GPU will not be used.\n",
            "2024-10-18 11:51:16.504891: I tensorflow/tsl/cuda/cudart_stub.cc:28] Could not find cuda drivers on your machine, GPU will not be used.\n",
            "2024-10-18 11:51:16.505387: I tensorflow/core/platform/cpu_feature_guard.cc:182] This TensorFlow binary is optimized to use available CPU instructions in performance-critical operations.\n",
            "To enable the following instructions: AVX2 AVX512F FMA, in other operations, rebuild TensorFlow with the appropriate compiler flags.\n",
            "2024-10-18 11:51:17.449392: W tensorflow/compiler/tf2tensorrt/utils/py_utils.cc:38] TF-TRT Warning: Could not find TensorRT\n",
            "Traceback (most recent call last):\n",
            "  File \"/content/drive/MyDrive/113-ai/TFmodels/models/research/Tensorflow-Object-Detection-API-With-Custom-Dataset/generate_tfrecord.py\", line 19, in <module>\n",
            "    from object_detection.utils import dataset_util\n",
            "ModuleNotFoundError: No module named 'object_detection'\n"
          ]
        }
      ]
    },
    {
      "cell_type": "code",
      "source": [
        "%%writefile object-detection.pbtxt\n",
        "item {\n",
        "  id: 1\n",
        "  name: \"apple\"\n",
        "}\n"
      ],
      "metadata": {
        "colab": {
          "base_uri": "https://localhost:8080/"
        },
        "id": "SgUVkO-_d7Oe",
        "outputId": "56418172-4f86-4e68-d079-ef1097be0d0b"
      },
      "execution_count": 12,
      "outputs": [
        {
          "output_type": "stream",
          "name": "stdout",
          "text": [
            "Writing object-detection.pbtxt\n"
          ]
        }
      ]
    },
    {
      "cell_type": "code",
      "source": [
        "!wget http://download.tensorflow.org/models/object_detection/tf2/20200711/ssd_mobilenet_v2_fpnlite_320x320_coco17_tpu-8.tar.gz\n",
        "!tar -xvf ssd_mobilenet_v2_fpnlite_320x320_coco17_tpu-8.tar.gz"
      ],
      "metadata": {
        "colab": {
          "base_uri": "https://localhost:8080/"
        },
        "id": "kS1cBVRZeiyu",
        "outputId": "459e6226-6117-453f-91a3-9c99a914e5cc"
      },
      "execution_count": 13,
      "outputs": [
        {
          "output_type": "stream",
          "name": "stdout",
          "text": [
            "--2024-10-18 11:55:46--  http://download.tensorflow.org/models/object_detection/tf2/20200711/ssd_mobilenet_v2_fpnlite_320x320_coco17_tpu-8.tar.gz\n",
            "Resolving download.tensorflow.org (download.tensorflow.org)... 142.250.101.207, 142.251.2.207, 142.250.141.207, ...\n",
            "Connecting to download.tensorflow.org (download.tensorflow.org)|142.250.101.207|:80... connected.\n",
            "HTTP request sent, awaiting response... 200 OK\n",
            "Length: 20515344 (20M) [application/x-tar]\n",
            "Saving to: ‘ssd_mobilenet_v2_fpnlite_320x320_coco17_tpu-8.tar.gz’\n",
            "\n",
            "ssd_mobilenet_v2_fp 100%[===================>]  19.56M  96.9MB/s    in 0.2s    \n",
            "\n",
            "2024-10-18 11:55:46 (96.9 MB/s) - ‘ssd_mobilenet_v2_fpnlite_320x320_coco17_tpu-8.tar.gz’ saved [20515344/20515344]\n",
            "\n",
            "ssd_mobilenet_v2_fpnlite_320x320_coco17_tpu-8/\n",
            "ssd_mobilenet_v2_fpnlite_320x320_coco17_tpu-8/checkpoint/\n",
            "ssd_mobilenet_v2_fpnlite_320x320_coco17_tpu-8/checkpoint/ckpt-0.data-00000-of-00001\n",
            "ssd_mobilenet_v2_fpnlite_320x320_coco17_tpu-8/checkpoint/checkpoint\n",
            "ssd_mobilenet_v2_fpnlite_320x320_coco17_tpu-8/checkpoint/ckpt-0.index\n",
            "ssd_mobilenet_v2_fpnlite_320x320_coco17_tpu-8/pipeline.config\n",
            "ssd_mobilenet_v2_fpnlite_320x320_coco17_tpu-8/saved_model/\n",
            "ssd_mobilenet_v2_fpnlite_320x320_coco17_tpu-8/saved_model/saved_model.pb\n",
            "ssd_mobilenet_v2_fpnlite_320x320_coco17_tpu-8/saved_model/variables/\n",
            "ssd_mobilenet_v2_fpnlite_320x320_coco17_tpu-8/saved_model/variables/variables.data-00000-of-00001\n",
            "ssd_mobilenet_v2_fpnlite_320x320_coco17_tpu-8/saved_model/variables/variables.index\n"
          ]
        }
      ]
    },
    {
      "cell_type": "code",
      "source": [
        "!python /content/drive/MyDrive/113-ai/TFmodels/models/research/object_detection/model_main_tf2.py --model_dir=ssd_mobilenet_v2_fpnlite_320x320_coco17_tpu-8/checkpoint --pipeline_config_path=ssd_mobilenet_v2_fpnlite_320x320_coco17_tpu-8/pipeline.config --num_train_steps=50000"
      ],
      "metadata": {
        "colab": {
          "base_uri": "https://localhost:8080/"
        },
        "id": "TGVro3y5erp_",
        "outputId": "5aac6274-8a65-40e7-cd0b-9b0777625e4e"
      },
      "execution_count": 45,
      "outputs": [
        {
          "output_type": "stream",
          "name": "stdout",
          "text": [
            "2024-10-18 12:33:03.859244: W tensorflow/compiler/tf2tensorrt/utils/py_utils.cc:38] TF-TRT Warning: Could not find TensorRT\n",
            "Traceback (most recent call last):\n",
            "  File \"/content/drive/MyDrive/113-ai/TFmodels/models/research/object_detection/model_main_tf2.py\", line 31, in <module>\n",
            "    from object_detection import model_lib_v2\n",
            "  File \"/content/models/research/object_detection/model_lib_v2.py\", line 30, in <module>\n",
            "    from object_detection import inputs\n",
            "  File \"/content/models/research/object_detection/inputs.py\", line 27, in <module>\n",
            "    from object_detection.builders import model_builder\n",
            "  File \"/content/models/research/object_detection/builders/model_builder.py\", line 70, in <module>\n",
            "    from object_detection.models import ssd_efficientnet_bifpn_feature_extractor as ssd_efficientnet_bifpn\n",
            "  File \"/content/models/research/object_detection/models/ssd_efficientnet_bifpn_feature_extractor.py\", line 35, in <module>\n",
            "    from official.legacy.image_classification.efficientnet import efficientnet_model\n",
            "  File \"/content/models/official/legacy/image_classification/efficientnet/efficientnet_model.py\", line 30, in <module>\n",
            "    import tensorflow as tf, tf_keras\n",
            "  File \"/usr/local/lib/python3.10/dist-packages/tf_keras/__init__.py\", line 3, in <module>\n",
            "    from tf_keras import __internal__\n",
            "  File \"/usr/local/lib/python3.10/dist-packages/tf_keras/__internal__/__init__.py\", line 3, in <module>\n",
            "    from tf_keras.__internal__ import backend\n",
            "  File \"/usr/local/lib/python3.10/dist-packages/tf_keras/__internal__/backend/__init__.py\", line 3, in <module>\n",
            "    from tf_keras.src.backend import _initialize_variables as initialize_variables\n",
            "  File \"/usr/local/lib/python3.10/dist-packages/tf_keras/src/__init__.py\", line 21, in <module>\n",
            "    from tf_keras.src import applications\n",
            "  File \"/usr/local/lib/python3.10/dist-packages/tf_keras/src/applications/__init__.py\", line 18, in <module>\n",
            "    from tf_keras.src.applications.convnext import ConvNeXtBase\n",
            "  File \"/usr/local/lib/python3.10/dist-packages/tf_keras/src/applications/convnext.py\", line 28, in <module>\n",
            "    from tf_keras.src import backend\n",
            "  File \"/usr/local/lib/python3.10/dist-packages/tf_keras/src/backend.py\", line 35, in <module>\n",
            "    from tf_keras.src.engine import keras_tensor\n",
            "  File \"/usr/local/lib/python3.10/dist-packages/tf_keras/src/engine/keras_tensor.py\", line 19, in <module>\n",
            "    from tf_keras.src.utils import object_identity\n",
            "  File \"/usr/local/lib/python3.10/dist-packages/tf_keras/src/utils/__init__.py\", line 53, in <module>\n",
            "    from tf_keras.src.utils.feature_space import FeatureSpace\n",
            "  File \"/usr/local/lib/python3.10/dist-packages/tf_keras/src/utils/feature_space.py\", line 20, in <module>\n",
            "    from tf_keras.src.engine import base_layer\n",
            "  File \"/usr/local/lib/python3.10/dist-packages/tf_keras/src/engine/base_layer.py\", line 35, in <module>\n",
            "    from tf_keras.src.dtensor import lazy_variable\n",
            "  File \"/usr/local/lib/python3.10/dist-packages/tf_keras/src/dtensor/lazy_variable.py\", line 23, in <module>\n",
            "    from tensorflow.python.framework import tensor\n",
            "ImportError: cannot import name 'tensor' from 'tensorflow.python.framework' (/usr/local/lib/python3.10/dist-packages/tensorflow/python/framework/__init__.py)\n"
          ]
        }
      ]
    },
    {
      "cell_type": "code",
      "source": [
        "!python /content/drive/MyDrive/113-ai/TFmodels/models/research/object_detection/exporter_main_v2.py --input_type image_tensor --pipeline_config_path=ssd_mobilenet_v2_fpnlite_320x320_coco17_tpu-8/pipeline.config --trained_checkpoint_dir=ssd_mobilenet_v2_fpnlite_320x320_coco17_tpu-8/checkpoint --output_directory=inference_graph"
      ],
      "metadata": {
        "colab": {
          "base_uri": "https://localhost:8080/"
        },
        "id": "M2vjLl26e7WV",
        "outputId": "415ea8c5-856d-48a8-d92e-1ef1fc4bbf81"
      },
      "execution_count": 44,
      "outputs": [
        {
          "output_type": "stream",
          "name": "stdout",
          "text": [
            "2024-10-18 12:32:53.026874: W tensorflow/compiler/tf2tensorrt/utils/py_utils.cc:38] TF-TRT Warning: Could not find TensorRT\n",
            "Traceback (most recent call last):\n",
            "  File \"/content/drive/MyDrive/113-ai/TFmodels/models/research/object_detection/exporter_main_v2.py\", line 104, in <module>\n",
            "    from object_detection import exporter_lib_v2\n",
            "  File \"/content/models/research/object_detection/exporter_lib_v2.py\", line 21, in <module>\n",
            "    from object_detection.builders import model_builder\n",
            "  File \"/content/models/research/object_detection/builders/model_builder.py\", line 70, in <module>\n",
            "    from object_detection.models import ssd_efficientnet_bifpn_feature_extractor as ssd_efficientnet_bifpn\n",
            "  File \"/content/models/research/object_detection/models/ssd_efficientnet_bifpn_feature_extractor.py\", line 35, in <module>\n",
            "    from official.legacy.image_classification.efficientnet import efficientnet_model\n",
            "  File \"/content/models/official/legacy/image_classification/efficientnet/efficientnet_model.py\", line 30, in <module>\n",
            "    import tensorflow as tf, tf_keras\n",
            "  File \"/usr/local/lib/python3.10/dist-packages/tf_keras/__init__.py\", line 3, in <module>\n",
            "    from tf_keras import __internal__\n",
            "  File \"/usr/local/lib/python3.10/dist-packages/tf_keras/__internal__/__init__.py\", line 3, in <module>\n",
            "    from tf_keras.__internal__ import backend\n",
            "  File \"/usr/local/lib/python3.10/dist-packages/tf_keras/__internal__/backend/__init__.py\", line 3, in <module>\n",
            "    from tf_keras.src.backend import _initialize_variables as initialize_variables\n",
            "  File \"/usr/local/lib/python3.10/dist-packages/tf_keras/src/__init__.py\", line 21, in <module>\n",
            "    from tf_keras.src import applications\n",
            "  File \"/usr/local/lib/python3.10/dist-packages/tf_keras/src/applications/__init__.py\", line 18, in <module>\n",
            "    from tf_keras.src.applications.convnext import ConvNeXtBase\n",
            "  File \"/usr/local/lib/python3.10/dist-packages/tf_keras/src/applications/convnext.py\", line 28, in <module>\n",
            "    from tf_keras.src import backend\n",
            "  File \"/usr/local/lib/python3.10/dist-packages/tf_keras/src/backend.py\", line 35, in <module>\n",
            "    from tf_keras.src.engine import keras_tensor\n",
            "  File \"/usr/local/lib/python3.10/dist-packages/tf_keras/src/engine/keras_tensor.py\", line 19, in <module>\n",
            "    from tf_keras.src.utils import object_identity\n",
            "  File \"/usr/local/lib/python3.10/dist-packages/tf_keras/src/utils/__init__.py\", line 53, in <module>\n",
            "    from tf_keras.src.utils.feature_space import FeatureSpace\n",
            "  File \"/usr/local/lib/python3.10/dist-packages/tf_keras/src/utils/feature_space.py\", line 20, in <module>\n",
            "    from tf_keras.src.engine import base_layer\n",
            "  File \"/usr/local/lib/python3.10/dist-packages/tf_keras/src/engine/base_layer.py\", line 35, in <module>\n",
            "    from tf_keras.src.dtensor import lazy_variable\n",
            "  File \"/usr/local/lib/python3.10/dist-packages/tf_keras/src/dtensor/lazy_variable.py\", line 23, in <module>\n",
            "    from tensorflow.python.framework import tensor\n",
            "ImportError: cannot import name 'tensor' from 'tensorflow.python.framework' (/usr/local/lib/python3.10/dist-packages/tensorflow/python/framework/__init__.py)\n"
          ]
        }
      ]
    }
  ]
}